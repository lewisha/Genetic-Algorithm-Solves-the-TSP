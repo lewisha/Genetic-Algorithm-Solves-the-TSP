{
  "nbformat": 4,
  "nbformat_minor": 0,
  "metadata": {
    "colab": {
      "name": "Untitled4.ipynb",
      "provenance": [],
      "collapsed_sections": [],
      "authorship_tag": "ABX9TyPmMlLD9N4SS5xQc8zTiaYa",
      "include_colab_link": true
    },
    "kernelspec": {
      "name": "python3",
      "display_name": "Python 3"
    },
    "language_info": {
      "name": "python"
    }
  },
  "cells": [
    {
      "cell_type": "markdown",
      "metadata": {
        "id": "view-in-github",
        "colab_type": "text"
      },
      "source": [
        "<a href=\"https://colab.research.google.com/github/lewisha/Using-Hueristic-Algorithm-Solves-the-TSP/blob/main/ACA.ipynb\" target=\"_parent\"><img src=\"https://colab.research.google.com/assets/colab-badge.svg\" alt=\"Open In Colab\"/></a>"
      ]
    },
    {
      "cell_type": "code",
      "execution_count": 31,
      "metadata": {
        "colab": {
          "base_uri": "https://localhost:8080/",
          "height": 318
        },
        "id": "UZFWNtOqB-cG",
        "outputId": "9c49a89f-2f2f-4271-b87a-8c95e4a2df83"
      },
      "outputs": [
        {
          "output_type": "stream",
          "name": "stdout",
          "text": [
            "Requirement already satisfied: scikit-opt in /usr/local/lib/python3.7/dist-packages (0.6.5)\n",
            "Requirement already satisfied: scipy in /usr/local/lib/python3.7/dist-packages (from scikit-opt) (1.4.1)\n",
            "Requirement already satisfied: numpy in /usr/local/lib/python3.7/dist-packages (from scikit-opt) (1.19.5)\n"
          ]
        },
        {
          "output_type": "display_data",
          "data": {
            "image/png": "[encoded data removed]",
            "text/plain": [
              "<Figure size 432x288 with 2 Axes>"
            ]
          },
          "metadata": {
            "needs_background": "light"
          }
        }
      ],
      "source": [
        "import numpy as np\n",
        "from scipy import spatial\n",
        "import pandas as pd\n",
        "import matplotlib.pyplot as plt\n",
        "!pip install scikit-opt\n",
        "from sko.ACA import ACA_TSP\n",
        "\n",
        "num_points = 25\n",
        "\n",
        "points_coordinate = np.random.rand(num_points, 2)  # generate coordinate of points\n",
        "distance_matrix = spatial.distance.cdist(points_coordinate, points_coordinate, metric='euclidean')\n",
        "\n",
        "\n",
        "def cal_total_distance(routine):\n",
        "    num_points, = routine.shape\n",
        "    return sum([distance_matrix[routine[i % num_points], routine[(i + 1) % num_points]] for i in range(num_points)])\n",
        "\n",
        "\n",
        "\n",
        "\n",
        "aca = ACA_TSP(func=cal_total_distance, n_dim=num_points,\n",
        "              size_pop=50, max_iter=200,\n",
        "              distance_matrix=distance_matrix)\n",
        "\n",
        "best_x, best_y = aca.run()\n",
        "\n",
        "# %% Plot\n",
        "fig, ax = plt.subplots(1, 2)\n",
        "best_points_ = np.concatenate([best_x, [best_x[0]]])\n",
        "best_points_coordinate = points_coordinate[best_points_, :]\n",
        "ax[0].plot(best_points_coordinate[:, 0], best_points_coordinate[:, 1], 'o-r')\n",
        "pd.DataFrame(aca.y_best_history).cummin().plot(ax=ax[1])\n",
        "plt.show()\n"
      ]
    },
    {
      "cell_type": "code",
      "source": [
        ""
      ],
      "metadata": {
        "id": "4MAixcs9MCth"
      },
      "execution_count": null,
      "outputs": []
    }
  ]
}